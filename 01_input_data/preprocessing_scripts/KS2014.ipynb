{
 "cells": [
  {
   "cell_type": "code",
   "execution_count": 6,
   "metadata": {},
   "outputs": [
    {
     "name": "stdout",
     "output_type": "stream",
     "text": [
      "Loading raw data for KS2014 ...\n"
     ]
    },
    {
     "name": "stderr",
     "output_type": "stream",
     "text": [
      "/var/folders/1v/y_z33m9d25d2tszlfrvnp2300000gn/T/ipykernel_14090/1047410058.py:15: DtypeWarning: Columns (5,12) have mixed types. Specify dtype option on import or set low_memory=False.\n",
      "  data = pd.read_csv('/Users/maryamkoddus/Documents/maryam-ko-QMUL-MSc-Project/01_input_data/raw_data/mmc3.csv', header=0)\n"
     ]
    },
    {
     "name": "stdout",
     "output_type": "stream",
     "text": [
      "Raw data loaded.\n",
      "Dataset Columns: Index(['id', 'Uniprot ID', 'Protein names', 'Gene names', 'Sequence window',\n",
      "       'Number of Phospho (STY)', 'Position', 'Amino acid', 'Class1',\n",
      "       'Localization prob', 'Score diff', 'PEP', 'Diagnostic peak', 'Score',\n",
      "       'Delta score', 'Mass error [ppm]', 'Intensity', 'Intensity C1',\n",
      "       'Intensity C2', 'Intensity C3', 'Intensity C4', 'Intensity C5',\n",
      "       'Intensity C6', 'Intensity E15_1', 'Intensity E15_2', 'Intensity E15_3',\n",
      "       'Intensity E15_4', 'Intensity N1', 'Intensity N2', 'Intensity N3',\n",
      "       'Intensity N4', 'Intensity pY_C4', 'Intensity pY_C5', 'Intensity pY_C6',\n",
      "       'Intensity pY_E5_1', 'Intensity pY_E5_2', 'Intensity pY_E5_3',\n",
      "       'Intensity pY_E5_4', 'Intensity pY_N1', 'Intensity pY_N2',\n",
      "       'Intensity pY_N3', 'Intensity pY_N4', 'Intensity pY_PV1',\n",
      "       'Intensity pY_PV2', 'Intensity pY_PV3', 'Intensity pY_PV4'],\n",
      "      dtype='object')\n",
      "        id                                         Uniprot ID  \\\n",
      "0  12045.0                                             P08238   \n",
      "1  21456.0                                             Q58FF8   \n",
      "2   4276.0  E9PK06;E9PL71;E9PQZ1;P29692-2;P29692;P29692-3;...   \n",
      "3  12010.0                                             P07900   \n",
      "4   1085.0                                             P27824   \n",
      "\n",
      "                               Protein names Gene names  \\\n",
      "0             Heat shock protein HSP 90-beta   HSP90AB1   \n",
      "1  Putative heat shock protein HSP 90-beta 2  HSP90AB2P   \n",
      "2                  Elongation factor 1-delta      EEF1D   \n",
      "3            Heat shock protein HSP 90-alpha   HSP90AA1   \n",
      "4                                   Calnexin       CANX   \n",
      "\n",
      "                   Sequence window Number of Phospho (STY)  Position  \\\n",
      "0  EDKDDEEKPKIEDVGSDEEDDSGKDKKKKTK                     1;2     255.0   \n",
      "1  ENKDDEEKPKIEDVGSDEEDDSGKDKKKKTK                     1;2     177.0   \n",
      "2  SSPGHRATAPQTQHVSPMRQVEPPAKKPATP                     1;2     499.0   \n",
      "3  EEKESEDKPEIEDVGSDEEEEKKDGDKKKKK                     1;2     263.0   \n",
      "4  EDRKPKAEEDEILNRSPRNRKPRRE______                       1     583.0   \n",
      "\n",
      "  Amino acid Class1  Localization prob  ...  Intensity pY_E5_3  \\\n",
      "0          S    Yes                1.0  ...         11400000.0   \n",
      "1          S    Yes                1.0  ...         11400000.0   \n",
      "2          S    Yes                1.0  ...         26500000.0   \n",
      "3          S    Yes                1.0  ...                0.0   \n",
      "4          S    Yes                1.0  ...        269000000.0   \n",
      "\n",
      "   Intensity pY_E5_4 Intensity pY_N1  Intensity pY_N2  Intensity pY_N3  \\\n",
      "0         20900000.0        693730.0        1553800.0        1663500.0   \n",
      "1         20900000.0        693730.0        1553800.0        1663500.0   \n",
      "2           979770.0        478140.0       95400000.0      162000000.0   \n",
      "3                0.0             0.0              0.0              0.0   \n",
      "4        274000000.0      93800000.0      101000000.0      181000000.0   \n",
      "\n",
      "   Intensity pY_N4  Intensity pY_PV1  Intensity pY_PV2  Intensity pY_PV3  \\\n",
      "0        4613700.0        35900000.0         1188400.0        24000000.0   \n",
      "1        4613700.0        35900000.0         1188400.0        24000000.0   \n",
      "2      244000000.0               0.0               0.0        10100000.0   \n",
      "3              0.0               0.0               0.0               0.0   \n",
      "4      251000000.0       552000000.0       101000000.0       197000000.0   \n",
      "\n",
      "   Intensity pY_PV4  \n",
      "0        21200000.0  \n",
      "1        21200000.0  \n",
      "2         6959100.0  \n",
      "3               0.0  \n",
      "4       141000000.0  \n",
      "\n",
      "[5 rows x 46 columns]\n"
     ]
    }
   ],
   "source": [
    "import sys\n",
    "import os\n",
    "import pandas as pd\n",
    "import numpy as np\n",
    "\n",
    "grandparent_dir = os.path.dirname(os.path.dirname(os.getcwd()))\n",
    "\n",
    "sys.path.append(grandparent_dir)\n",
    "\n",
    "from funcs import preprocessingks\n",
    "\n",
    "dataset = 'KS2014'\n",
    "\n",
    "print('Loading raw data for', dataset, '...')\n",
    "data = pd.read_csv('/Users/maryamkoddus/Documents/maryam-ko-QMUL-MSc-Project/01_input_data/raw_data/mmc3.csv', header=0)\n",
    "print('Raw data loaded.')\n",
    "\n",
    "print(f\"Dataset Columns: {data.columns}\")\n",
    "print(data.head())  # Print first few rows to inspect data"
   ]
  },
  {
   "cell_type": "code",
   "execution_count": 7,
   "metadata": {},
   "outputs": [],
   "source": [
    "# Ensure 'Gene names' column exists\n",
    "if 'Gene names' not in data.columns:\n",
    "    raise ValueError(\"The 'Gene names' column is missing from the dataset.\")"
   ]
  },
  {
   "cell_type": "code",
   "execution_count": 8,
   "metadata": {},
   "outputs": [],
   "source": [
    "# filter data to keep only those with localization probability >= 0.85\n",
    "data = data[data['Localization prob'] >= 0.85] \n",
    "\n",
    "# Filtering out semi-colons from 'Amino acid', 'Positions', and 'Gene names' columns\n",
    "data = data[~data['Amino acid'].str.contains(';', na=False)]\n",
    "data = data[~data['Gene names'].str.contains(';', na=False)]\n",
    "\n",
    "# filter data\n",
    "data['Sequence window'] = data['Sequence window'].str.replace('_', '')\n"
   ]
  },
  {
   "cell_type": "code",
   "execution_count": 9,
   "metadata": {},
   "outputs": [
    {
     "name": "stdout",
     "output_type": "stream",
     "text": [
      "Amino acid sequences matched to FASTA sequences.\n",
      "Error: match_seq_to_genename returned None\n"
     ]
    }
   ],
   "source": [
    "#Define the path to your FASTA file\n",
    "fasta_path = \"/Users/maryamkoddus/Documents/maryam-ko-QMUL-MSc-Project/01_input_data/raw_data/UP000005640_9606.fasta\"\n",
    "\n",
    "# Attempt to match sequences to FASTA sequences\n",
    "data = preprocessingks.match_seq_to_genename(data, 'Sequence window')\n",
    "\n",
    "# Check if data is None\n",
    "if data is None:\n",
    "    print(\"Error: match_seq_to_genename returned None\")\n",
    "else:\n",
    "    # Use the gene names from the initial dataset\n",
    "    data['GeneName'] = data['Gene names']\n",
    "    print('Using gene names from the initial dataset.')"
   ]
  },
  {
   "cell_type": "code",
   "execution_count": 10,
   "metadata": {},
   "outputs": [
    {
     "ename": "TypeError",
     "evalue": "'NoneType' object is not subscriptable",
     "output_type": "error",
     "traceback": [
      "\u001b[31m---------------------------------------------------------------------------\u001b[39m",
      "\u001b[31mTypeError\u001b[39m                                 Traceback (most recent call last)",
      "\u001b[36mCell\u001b[39m\u001b[36m \u001b[39m\u001b[32mIn[10]\u001b[39m\u001b[32m, line 1\u001b[39m\n\u001b[32m----> \u001b[39m\u001b[32m1\u001b[39m data[\u001b[33m'\u001b[39m\u001b[33mPhosphosite\u001b[39m\u001b[33m'\u001b[39m] = \u001b[43mdata\u001b[49m\u001b[43m[\u001b[49m\u001b[33;43m'\u001b[39;49m\u001b[33;43mAmino acid\u001b[39;49m\u001b[33;43m'\u001b[39;49m\u001b[43m]\u001b[49m.astype(\u001b[38;5;28mstr\u001b[39m) + \u001b[33m'\u001b[39m\u001b[33m(\u001b[39m\u001b[33m'\u001b[39m + data[\u001b[33m'\u001b[39m\u001b[33mPosition\u001b[39m\u001b[33m'\u001b[39m].astype(\u001b[38;5;28mstr\u001b[39m) + \u001b[33m'\u001b[39m\u001b[33m)\u001b[39m\u001b[33m'\u001b[39m\n\u001b[32m      3\u001b[39m \u001b[38;5;66;03m# Keep only 'Phosphosite' and ratio columns\u001b[39;00m\n\u001b[32m      4\u001b[39m keepcols = [\u001b[33m'\u001b[39m\u001b[33mPhosphosite\u001b[39m\u001b[33m'\u001b[39m] + [\u001b[33m'\u001b[39m\u001b[33mGeneName\u001b[39m\u001b[33m'\u001b[39m] + [col \u001b[38;5;28;01mfor\u001b[39;00m col \u001b[38;5;129;01min\u001b[39;00m data.columns \u001b[38;5;28;01mif\u001b[39;00m \u001b[33m'\u001b[39m\u001b[33mIntensity\u001b[39m\u001b[33m'\u001b[39m \u001b[38;5;129;01min\u001b[39;00m col]\n",
      "\u001b[31mTypeError\u001b[39m: 'NoneType' object is not subscriptable"
     ]
    }
   ],
   "source": [
    "data['Phosphosite'] = data['Amino acid'].astype(str) + '(' + data['Position'].astype(str) + ')'\n",
    "\n",
    "# Keep only 'Phosphosite' and ratio columns\n",
    "keepcols = ['Phosphosite'] + ['GeneName'] + [col for col in data.columns if 'Intensity' in col]\n",
    "data = data[keepcols]\n",
    "\n",
    "print(\"Data after subsetting columns:\", data)\n",
    "print(\"Cols after subsetting:\", data.columns)\n"
   ]
  },
  {
   "cell_type": "code",
   "execution_count": null,
   "metadata": {},
   "outputs": [],
   "source": [
    "# log2 transform the ratio columns \n",
    "Intensity_columns = [col for col in data.columns if 'Intensity' in col]\n",
    "data[Intensity_columns] = data[Intensity_columns].apply(pd.to_numeric, errors=\"coerce\")\n",
    "data[Intensity_columns] = np.log2(data[Intensity_columns] + 1)  # Avoid log(0) errors\n",
    "print(\"After transformation:\")\n",
    "print(data.head())  # Show the first few rows after processing"
   ]
  },
  {
   "cell_type": "code",
   "execution_count": null,
   "metadata": {},
   "outputs": [],
   "source": [
    "data = preprocessingks.create_phos_ID(data) # call function to create phosphosite_ID column\n",
    "print('Phosphosite IDs created.')\n",
    "data = data.drop(columns=['Gene names', 'Amino acid', 'Position'])\n",
    "\n",
    "data = preprocessingks.clean_phosID_col(data)\n",
    "print(\"After cleaning phosphosite_ID column:\")\n",
    "print(data.head())"
   ]
  },
  {
   "cell_type": "code",
   "execution_count": null,
   "metadata": {},
   "outputs": [],
   "source": [
    "final_columns = ['phosphosite_ID'] + [col for col in data.columns if 'Intensity' in col]\n",
    "data = data[final_columns]\n",
    "print(\"Final dataset preview:\")\n",
    "print(data.head())  # Display first few rows\n",
    "print(data.tail())  # Display last few rows"
   ]
  },
  {
   "cell_type": "code",
   "execution_count": null,
   "metadata": {},
   "outputs": [],
   "source": [
    "data.to_csv(f'/Users/maryamkoddus/Documents/maryam-ko-QMUL-MSc-Project/01_input_data/PreprocessedDatasets/KS2014.csv', index=False)\n",
    "\n",
    "\n",
    "print(dataset, 'has been saved to CSV successfully!', data)\n",
    "                              "
   ]
  }
 ],
 "metadata": {
  "kernelspec": {
   "display_name": "Python (.venv)",
   "language": "python",
   "name": ".venv"
  },
  "language_info": {
   "codemirror_mode": {
    "name": "ipython",
    "version": 3
   },
   "file_extension": ".py",
   "mimetype": "text/x-python",
   "name": "python",
   "nbconvert_exporter": "python",
   "pygments_lexer": "ipython3",
   "version": "3.13.0"
  }
 },
 "nbformat": 4,
 "nbformat_minor": 2
}
