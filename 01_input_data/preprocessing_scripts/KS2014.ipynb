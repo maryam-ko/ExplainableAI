{
 "cells": [
  {
   "cell_type": "code",
   "execution_count": 1,
   "metadata": {},
   "outputs": [],
   "source": [
    "import sys\n",
    "import os\n",
    "import pandas as pd\n",
    "import numpy as np\n",
    "from Bio import SeqIO\n",
    "import re\n"
   ]
  },
  {
   "cell_type": "code",
   "execution_count": null,
   "metadata": {},
   "outputs": [],
   "source": [
    "dataset = 'KS2014'\n",
    "\n",
    "print('Loading raw data for', dataset, '...')\n",
    "data = pd.read_csv('/Users/maryamkoddus/Documents/maryam-ko-QMUL-MSc-Project/01_input_data/raw_data/mmc3.csv', header=0)\n",
    "print('Raw data loaded.')\n",
    "data"
   ]
  },
  {
   "cell_type": "code",
   "execution_count": 3,
   "metadata": {},
   "outputs": [],
   "source": [
    "data.columns = data.columns.str.strip()"
   ]
  },
  {
   "cell_type": "code",
   "execution_count": 4,
   "metadata": {},
   "outputs": [],
   "source": [
    "# filter data to keep only those with localization probability >= 0.85\n",
    "data = data[data['Localization prob'] >= 0.85]"
   ]
  },
  {
   "cell_type": "code",
   "execution_count": 5,
   "metadata": {},
   "outputs": [],
   "source": [
    "# Filtering out semi-colons from 'Amino acid', 'Positions', and 'Gene names' columns\n",
    "data = data[~data['Amino acid'].str.contains(';', na=False)]\n",
    "data = data[~data['Gene names'].str.contains(';', na=False)]"
   ]
  },
  {
   "cell_type": "code",
   "execution_count": 6,
   "metadata": {},
   "outputs": [],
   "source": [
    "# filter data\n",
    "data['Sequence window'] = data['Sequence window'].str.replace('_', '')"
   ]
  },
  {
   "cell_type": "code",
   "execution_count": 7,
   "metadata": {},
   "outputs": [],
   "source": [
    "def match_seq_to_genename(dataset, seq_column):\n",
    "    '''\n",
    "    Maps amino acid sequences to gene names using the loaded fasta file.\n",
    "    \n",
    "    args:\n",
    "    =====\n",
    "    dataset: <pd.Dataframe> with a column of amino acid sequences\n",
    "    seq_column: <str> column name containing amino acid sequences\n",
    "    \n",
    "    out:\n",
    "    ====\n",
    "    dataset: <pd.Dataframe> with an additional column containing gene names\n",
    "    '''    \n",
    "    \n",
    "    fasta_sequence = list(SeqIO.parse(f\"/Users/maryamkoddus/Documents/maryam-ko-QMUL-MSc-Project/01_input_data/raw_data/UP000005640_9606.fasta\", \"fasta\"))\n",
    "    \n",
    "    gene_dict = {}\n",
    "    \n",
    "    # iterate over rows in seq_column\n",
    "    for i in dataset[seq_column]:\n",
    "        print(i)\n",
    "        i_str = str(i)\n",
    "        for seq_record in fasta_sequence:\n",
    "            matches = re.findall(i_str, str(seq_record.seq))\n",
    "            if matches:\n",
    "                print(f\"Match found for sequence: {seq_record}\")\n",
    "                gene_name_match = re.search(r\"GN=(\\w+)\", seq_record.description)\n",
    "                print('Gene name match:', gene_name_match)\n",
    "                if gene_name_match:\n",
    "                    gene_name = gene_name_match.group(1)\n",
    "                    gene_dict[i] = gene_name\n",
    "                    print(f\"Match found: {i_str} -> {gene_name}\")\n",
    "                else:\n",
    "                    print(f\"No gene name match found in description for sequence: {i_str}\")\n",
    "\n",
    "    # map sequences to gene names           \n",
    "    dataset['GeneName'] = dataset[seq_column].map(gene_dict) \n",
    "    print('Amino acid sequences matched to gene names.')\n",
    "\n",
    "    return dataset\n"
   ]
  },
  {
   "cell_type": "code",
   "execution_count": null,
   "metadata": {},
   "outputs": [],
   "source": [
    "data = match_seq_to_genename(data, 'Sequence window')"
   ]
  },
  {
   "cell_type": "code",
   "execution_count": null,
   "metadata": {},
   "outputs": [],
   "source": [
    "data"
   ]
  },
  {
   "cell_type": "code",
   "execution_count": null,
   "metadata": {},
   "outputs": [],
   "source": [
    "# Ensure GeneName exists before proceeding\n",
    "if 'GeneName' not in data.columns:\n",
    "    raise ValueError(\"GeneName column is missing! Check match_seq_to_genename function.\")"
   ]
  },
  {
   "cell_type": "code",
   "execution_count": null,
   "metadata": {},
   "outputs": [],
   "source": [
    "data['Phosphosite'] = data['Amino acid'].astype(str) + '(' + data['Position'].astype(str) + ')'\n",
    "\n",
    "# Debugging: Check if 'Phosphosite' column is present after creation\n",
    "if 'Phosphosite' not in data.columns:\n",
    "    print(\"Error: 'Phosphosite' column not created!\")\n",
    "else:\n",
    "    print(\"Phosphosite column created successfully.\")\n",
    "\n",
    "data"
   ]
  },
  {
   "cell_type": "code",
   "execution_count": null,
   "metadata": {},
   "outputs": [],
   "source": [
    "# Keep only 'Phosphosite' and ratio columns\n",
    "keepcols = ['Phosphosite'] + ['GeneName'] + [col for col in data.columns if 'Intensity' in col]\n",
    "data = data[keepcols]\n",
    "data"
   ]
  },
  {
   "cell_type": "code",
   "execution_count": null,
   "metadata": {},
   "outputs": [],
   "source": [
    "print(\"Data after subsetting columns:\", data)"
   ]
  },
  {
   "cell_type": "code",
   "execution_count": null,
   "metadata": {},
   "outputs": [],
   "source": [
    "print(\"Cols after subsetting:\", data.columns)"
   ]
  },
  {
   "cell_type": "code",
   "execution_count": null,
   "metadata": {},
   "outputs": [],
   "source": [
    "# log2 transform the ratio columns \n",
    "Intensity_columns = [col for col in data.columns if 'Intensity' in col]\n",
    "\n",
    "data[Intensity_columns] = data[Intensity_columns].apply(pd.to_numeric, errors=\"coerce\")\n",
    "data[Intensity_columns] = data[Intensity_columns].replace([np.inf, -np.inf], np.nan)"
   ]
  },
  {
   "cell_type": "code",
   "execution_count": null,
   "metadata": {},
   "outputs": [],
   "source": [
    "def log2_transform(dataset):\n",
    "    '''\n",
    "    Log2 transform a dataset.\n",
    "    \n",
    "    args:\n",
    "    =====\n",
    "    dataset: <pd.Dataframe>\n",
    "    \n",
    "    out:\n",
    "    ====\n",
    "    dataset: <pd.Dataframe> with log2 transformed values\n",
    "\n",
    "    '''\n",
    "    cols_to_transform = dataset[Intensity_columns]\n",
    "    dataset[Intensity_columns] = cols_to_transform.apply(np.log2)\n",
    "    print('Data has been log2 transformed.')\n",
    "    return dataset\n"
   ]
  },
  {
   "cell_type": "code",
   "execution_count": null,
   "metadata": {},
   "outputs": [],
   "source": [
    "data = log2_transform(data)\n",
    "print(f\"DataFrame after log2 transformation:\\n{data}\") # Print the DataFrame after log2 transformation"
   ]
  },
  {
   "cell_type": "code",
   "execution_count": null,
   "metadata": {},
   "outputs": [],
   "source": [
    "def create_phos_ID(dataset):\n",
    "    '''\n",
    "    Concatenates GeneName and Phosphosite columns.\n",
    "    \n",
    "    args:\n",
    "    =====\n",
    "    dataset: <pd.Dataframe> with columns 'GeneName' and 'Phosphosite'\n",
    "    \n",
    "    out:\n",
    "    ====\n",
    "    dataset: <pd.Dataframe> with 'phosphosite_ID' column and 'GeneName' + 'Phosphosite' columns dropped\n",
    "    '''\n",
    "    dataset.loc[:, 'phosphosite_ID'] = dataset['GeneName'].astype(str) + '_' + dataset['Phosphosite'].astype(str)\n",
    "    dataset = dataset.drop(columns=['Phosphosite', 'GeneName'])\n",
    "    print('Phosphosite IDs created.')\n",
    "    return dataset\n",
    "\n",
    "data = create_phos_ID(data) # call function to create phosphosite_ID column\n",
    "\n",
    "print('Phosphosite IDs created.')"
   ]
  },
  {
   "cell_type": "code",
   "execution_count": null,
   "metadata": {},
   "outputs": [],
   "source": [
    "def clean_phosID_col(data):\n",
    "    data = data[~data.phosphosite_ID.str.contains('nan', case = False)]\n",
    "    data = data[~data.phosphosite_ID.str.contains(';', case = False)] # remove rows containing ';' in phosphosite_ID column\n",
    "    data = data[~data.phosphosite_ID.str.contains('-', case = False)] # remove rows containing '-' in phosphosite_ID column\n",
    "    \n",
    "    # check whether there are any phosphosites with multiple measurements\n",
    "    data_grouped = data.groupby(by = 'phosphosite_ID')\n",
    "    if len(data) != len(data_grouped):\n",
    "        data = data_grouped.mean()\n",
    "        data.reset_index(inplace=True) # reset index\n",
    "        print('Phosphosites with multiple measurements have been averaged')\n",
    "    else:\n",
    "        print('There are no phosphosites with multiple measurements')\n",
    "        \n",
    "    print(data)\n",
    "        \n",
    "    data = data.replace([np.inf, -np.inf], np.nan)\n",
    "        \n",
    "    if data.columns[0] != 'phosphosite_ID':\n",
    "        phosphosite_ID = data.pop('phosphosite_ID')\n",
    "        data.insert(0, 'phosphosite_ID', phosphosite_ID)\n",
    "    return data"
   ]
  },
  {
   "cell_type": "code",
   "execution_count": null,
   "metadata": {},
   "outputs": [],
   "source": [
    "data = clean_phosID_col(data)\n",
    "print(\"After cleaning phosphosite_ID column:\")\n",
    "data"
   ]
  },
  {
   "cell_type": "code",
   "execution_count": null,
   "metadata": {},
   "outputs": [],
   "source": [
    "data.to_csv(f'/Users/maryamkoddus/Documents/maryam-ko-QMUL-MSc-Project/01_input_data/PreprocessedDatasets/KS2014.csv', index=False)\n",
    "\n",
    "\n",
    "print(dataset, 'has been saved to CSV successfully!', data)\n",
    "                              "
   ]
  }
 ],
 "metadata": {
  "kernelspec": {
   "display_name": "Python (.venv)",
   "language": "python",
   "name": ".venv"
  },
  "language_info": {
   "codemirror_mode": {
    "name": "ipython",
    "version": 3
   },
   "file_extension": ".py",
   "mimetype": "text/x-python",
   "name": "python",
   "nbconvert_exporter": "python",
   "pygments_lexer": "ipython3",
   "version": "3.13.0"
  }
 },
 "nbformat": 4,
 "nbformat_minor": 2
}
