{
 "cells": [
  {
   "cell_type": "code",
   "execution_count": 2,
   "metadata": {},
   "outputs": [
    {
     "name": "stdout",
     "output_type": "stream",
     "text": [
      "Grandparent Directory: /Users/maryamkoddus/Documents/maryam-ko-QMUL-MSc-Project/01_input_data/preprocessing_scripts\n",
      "sys.path: ['/Library/Frameworks/Python.framework/Versions/3.13/lib/python313.zip', '/Library/Frameworks/Python.framework/Versions/3.13/lib/python3.13', '/Library/Frameworks/Python.framework/Versions/3.13/lib/python3.13/lib-dynload', '', '/Users/maryamkoddus/Documents/maryam-ko-QMUL-MSc-Project/.venv/lib/python3.13/site-packages', '/Users/maryamkoddus/Documents/maryam-ko-QMUL-MSc-Project/01_input_data/preprocessing_scripts', '/Users/maryamkoddus/Documents/maryam-ko-QMUL-MSc-Project/01_input_data/preprocessing_scripts']\n"
     ]
    },
    {
     "ename": "ModuleNotFoundError",
     "evalue": "No module named 'funcs'",
     "output_type": "error",
     "traceback": [
      "\u001b[31m---------------------------------------------------------------------------\u001b[39m",
      "\u001b[31mModuleNotFoundError\u001b[39m                       Traceback (most recent call last)",
      "\u001b[36mCell\u001b[39m\u001b[36m \u001b[39m\u001b[32mIn[2]\u001b[39m\u001b[32m, line 20\u001b[39m\n\u001b[32m     18\u001b[39m \u001b[38;5;28mprint\u001b[39m(\u001b[33m\"\u001b[39m\u001b[33mGrandparent Directory:\u001b[39m\u001b[33m\"\u001b[39m, grandparent_dir)\n\u001b[32m     19\u001b[39m \u001b[38;5;28mprint\u001b[39m(\u001b[33m\"\u001b[39m\u001b[33msys.path:\u001b[39m\u001b[33m\"\u001b[39m, sys.path)\n\u001b[32m---> \u001b[39m\u001b[32m20\u001b[39m \u001b[38;5;28;01mfrom\u001b[39;00m\u001b[38;5;250m \u001b[39m\u001b[34;01mfuncs\u001b[39;00m\u001b[38;5;250m \u001b[39m\u001b[38;5;28;01mimport\u001b[39;00m preprocessing\n",
      "\u001b[31mModuleNotFoundError\u001b[39m: No module named 'funcs'"
     ]
    }
   ],
   "source": [
    "#!/bin/python\n",
    "\n",
    "# ----------------- #\n",
    "# LOAD DEPENDENCIES\n",
    "# ----------------- #\n",
    "\n",
    "import sys\n",
    "import os\n",
    "import pandas as pd\n",
    "import numpy as np\n",
    "\n",
    "if '__file__' in globals():\n",
    "    grandparent_dir = os.path.dirname(os.path.dirname(os.path.dirname(os.path.realpath(__file__))))\n",
    "else:\n",
    "    grandparent_dir = os.getcwd()\n",
    "\n",
    "sys.path.append(grandparent_dir)\n",
    "print(\"Grandparent Directory:\", grandparent_dir)\n",
    "print(\"sys.path:\", sys.path)\n",
    "from funcs import preprocessing"
   ]
  },
  {
   "cell_type": "code",
   "execution_count": 3,
   "metadata": {},
   "outputs": [
    {
     "ename": "ERROR",
     "evalue": "Error in parse(text = input): <text>:8:8: unexpected string constant\n7: data.columns = data.columns.str.strip()\n8: print(f\"Dataset Columns: {data.columns}\"\n          ^\n",
     "output_type": "error",
     "traceback": [
      "Error in parse(text = input): <text>:8:8: unexpected string constant\n7: data.columns = data.columns.str.strip()\n8: print(f\"Dataset Columns: {data.columns}\"\n          ^\nTraceback:\n"
     ]
    }
   ],
   "source": [
    "dataset = 'MV2014'\n",
    "\n",
    "print('Loading raw data for', dataset, '...')\n",
    "data = pd.read_csv('/Users/maryamkoddus/Documents/maryam-ko-QMUL-MSc-Project/01_input_data/raw_data/e22-sup-tables1.csv', header=0)\n",
    "print('Raw data loaded.')\n",
    "\n",
    "data.columns = data.columns.str.strip()\n",
    "print(f\"Dataset Columns: {data.columns}\")\n",
    "print(data.head())  # Print first few rows to inspect data\n",
    "\n",
    "# filter data to keep only those with localization probability >= 0.85\n",
    "data = data[data['Localization prob'] >= 0.85] \n",
    "\n",
    "# Filtering out semi-colons from 'Amino acid', 'Positions within proteins', and 'Gene names' columns\n",
    "data = data[~data['Amino acid'].str.contains(';', na=False)]\n",
    "data = data[~data['Positions within proteins'].str.contains(';', na=False)]\n",
    "data = data[~data['Gene names'].str.contains(';', na=False)]\n"
   ]
  },
  {
   "cell_type": "code",
   "execution_count": null,
   "metadata": {},
   "outputs": [],
   "source": [
    "# filter data\n",
    "data['Sequence window'] = data['Sequence window'].str.replace('_', '')\n",
    "\n",
    "preprocessing.match_seq_to_genename(data, 'Sequence window')\n",
    "print('Amino acid sequences matched to gene names.')"
   ]
  },
  {
   "cell_type": "code",
   "execution_count": null,
   "metadata": {},
   "outputs": [],
   "source": [
    "print(\"Before creating Phosphosite, columns:\", data.columns)\n",
    "\n",
    "# Ensure GeneName exists before proceeding\n",
    "if 'GeneName' not in data.columns:\n",
    "    raise ValueError(\"GeneName column is missing! Check match_seq_to_genename function.\")\n",
    "\n",
    "\n",
    "data['Phosphosite'] = data['Amino acid'].astype(str) + '(' + data['Positions within proteins'].astype(str) + ')'\n",
    "\n",
    "# Debugging: Check if 'Phosphosite' column is present after creation\n",
    "if 'Phosphosite' not in data.columns:\n",
    "    print(\"Error: 'Phosphosite' column not created!\")\n",
    "else:\n",
    "    print(\"Phosphosite column created successfully.\")\n",
    "\n",
    "print(\"After creating Phosphosite, columns:\", data.columns)  # Check if 'Phosphosite' is added\n"
   ]
  },
  {
   "cell_type": "code",
   "execution_count": null,
   "metadata": {},
   "outputs": [],
   "source": [
    "# Keep only 'Phosphosite' and ratio columns\n",
    "keepcols = ['Phosphosite'] + ['GeneName'] + [col for col in data.columns if 'Ratio' in col]\n",
    "data = data[keepcols]\n",
    "\n",
    "print(\"Data after subsetting columns:\", data)\n",
    "print(\"Cols after subsetting:\", data.columns)"
   ]
  },
  {
   "cell_type": "code",
   "execution_count": null,
   "metadata": {},
   "outputs": [],
   "source": [
    "# log2 transform the ratio columns (Ratio columns)\n",
    "Ratio_columns = [col for col in data.columns if 'Ratio' in col]\n",
    "data[Ratio_columns] = data[Ratio_columns].apply(pd.to_numeric, errors='coerce')\n",
    "print(\"After transformation:\")\n",
    "print(data.head())  # Show the first few rows after processing"
   ]
  },
  {
   "cell_type": "code",
   "execution_count": null,
   "metadata": {},
   "outputs": [],
   "source": [
    "data = preprocessing.create_phos_ID(data) # call function to create phosphosite_ID column\n",
    "print('Phosphosite IDs created.')"
   ]
  },
  {
   "cell_type": "code",
   "execution_count": null,
   "metadata": {},
   "outputs": [],
   "source": [
    "ata = preprocessing.clean_phosID_col(data)\n",
    "print(\"After cleaning phosphosite_ID column:\")\n",
    "print(data.head())\n"
   ]
  },
  {
   "cell_type": "code",
   "execution_count": null,
   "metadata": {},
   "outputs": [],
   "source": [
    "final_columns = ['phosphosite_ID'] + [col for col in data.columns if 'Ratio' in col]\n",
    "data = data[final_columns]\n",
    "print(\"Final dataset preview:\")\n",
    "print(data.head())  # Display first few rows\n",
    "print(data.tail())  # Display last few rows"
   ]
  },
  {
   "cell_type": "code",
   "execution_count": null,
   "metadata": {},
   "outputs": [],
   "source": [
    "data.to_csv(f'/Users/maryamkoddus/Documents/maryam-ko-QMUL-MSc-Project/01_input_data/PreprocessedDatasets/MV2014.csv', index=False)\n",
    "\n",
    "\n",
    "print(dataset, 'has been saved to CSV successfully!', data)"
   ]
  }
 ],
 "metadata": {
  "kernelspec": {
   "display_name": "Python (.venv)",
   "language": "python",
   "name": ".venv"
  },
  "language_info": {
   "codemirror_mode": {
    "name": "ipython",
    "version": 3
   },
   "file_extension": ".py",
   "mimetype": "text/x-python",
   "name": "python",
   "nbconvert_exporter": "python",
   "pygments_lexer": "ipython3",
   "version": "3.13.0"
  }
 },
 "nbformat": 4,
 "nbformat_minor": 2
}
