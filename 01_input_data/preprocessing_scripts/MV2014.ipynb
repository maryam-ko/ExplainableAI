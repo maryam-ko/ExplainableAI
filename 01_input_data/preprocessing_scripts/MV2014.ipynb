{
 "cells": [
  {
   "cell_type": "code",
   "execution_count": 5,
   "metadata": {
    "vscode": {
     "languageId": "r"
    }
   },
   "outputs": [
    {
     "ename": "ERROR",
     "evalue": "Error in parse(text = input): <text>:7:8: unexpected symbol\n6: \n7: import sys\n          ^\n",
     "output_type": "error",
     "traceback": [
      "Error in parse(text = input): <text>:7:8: unexpected symbol\n6: \n7: import sys\n          ^\nTraceback:\n"
     ]
    }
   ],
   "source": [
    "#!/bin/python\n",
    "\n",
    "# ----------------- #\n",
    "# LOAD DEPENDENCIES\n",
    "# ----------------- #\n",
    "\n",
    "import sys\n",
    "import os\n",
    "import pandas as pd\n",
    "import numpy as np\n",
    "\n",
    "grandparent_dir = os.path.dirname(os.path.dirname(os.path.dirname(os.path.realpath(__file__))))\n",
    "\n",
    "sys.path.append(grandparent_dir)\n",
    "\n",
    "from funcs import preprocessing"
   ]
  },
  {
   "cell_type": "code",
   "execution_count": null,
   "metadata": {
    "vscode": {
     "languageId": "r"
    }
   },
   "outputs": [],
   "source": [
    "dataset = 'MV2014'\n",
    "\n",
    "print('Loading raw data for', dataset, '...')\n",
    "data = pd.read_csv('/Users/maryamkoddus/Documents/maryam-ko-QMUL-MSc-Project/01_input_data/raw_data/e22-sup-tables1.csv', header=0)\n",
    "print('Raw data loaded.')\n",
    "\n",
    "data.columns = data.columns.str.strip()\n",
    "print(f\"Dataset Columns: {data.columns}\")\n",
    "print(data.head())  # Print first few rows to inspect data\n",
    "\n",
    "# filter data to keep only those with localization probability >= 0.85\n",
    "data = data[data['Localization prob'] >= 0.85] \n",
    "\n",
    "# Filtering out semi-colons from 'Amino acid', 'Positions within proteins', and 'Gene names' columns\n",
    "data = data[~data['Amino acid'].str.contains(';', na=False)]\n",
    "data = data[~data['Positions within proteins'].str.contains(';', na=False)]\n",
    "data = data[~data['Gene names'].str.contains(';', na=False)]\n"
   ]
  },
  {
   "cell_type": "code",
   "execution_count": null,
   "metadata": {
    "vscode": {
     "languageId": "r"
    }
   },
   "outputs": [],
   "source": [
    "# filter data\n",
    "data['Sequence window'] = data['Sequence window'].str.replace('_', '')\n",
    "\n",
    "preprocessing.match_seq_to_genename(data, 'Sequence window')\n",
    "print('Amino acid sequences matched to gene names.')"
   ]
  },
  {
   "cell_type": "code",
   "execution_count": null,
   "metadata": {
    "vscode": {
     "languageId": "r"
    }
   },
   "outputs": [],
   "source": [
    "print(\"Before creating Phosphosite, columns:\", data.columns)\n",
    "\n",
    "# Ensure GeneName exists before proceeding\n",
    "if 'GeneName' not in data.columns:\n",
    "    raise ValueError(\"GeneName column is missing! Check match_seq_to_genename function.\")\n",
    "\n",
    "\n",
    "data['Phosphosite'] = data['Amino acid'].astype(str) + '(' + data['Positions within proteins'].astype(str) + ')'\n",
    "\n",
    "# Debugging: Check if 'Phosphosite' column is present after creation\n",
    "if 'Phosphosite' not in data.columns:\n",
    "    print(\"Error: 'Phosphosite' column not created!\")\n",
    "else:\n",
    "    print(\"Phosphosite column created successfully.\")\n",
    "\n",
    "print(\"After creating Phosphosite, columns:\", data.columns)  # Check if 'Phosphosite' is added\n"
   ]
  }
 ],
 "metadata": {
  "kernelspec": {
   "display_name": "R",
   "language": "R",
   "name": "ir"
  },
  "language_info": {
   "codemirror_mode": "r",
   "file_extension": ".r",
   "mimetype": "text/x-r-source",
   "name": "R",
   "pygments_lexer": "r",
   "version": "4.4.2"
  }
 },
 "nbformat": 4,
 "nbformat_minor": 2
}
